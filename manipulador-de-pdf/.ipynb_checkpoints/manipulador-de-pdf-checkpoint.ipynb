{
 "cells": [
  {
   "cell_type": "code",
   "execution_count": 1,
   "id": "5bbc0cc5-f37c-4abb-ab54-ab59246ac526",
   "metadata": {},
   "outputs": [
    {
     "name": "stdout",
     "output_type": "stream",
     "text": [
      "Requirement already satisfied: pyPDF2 in c:\\users\\orfeu\\anaconda3\\lib\\site-packages (3.0.1)\n",
      "Note: you may need to restart the kernel to use updated packages.\n"
     ]
    }
   ],
   "source": [
    "pip install pyPDF2\n"
   ]
  },
  {
   "cell_type": "code",
   "execution_count": 17,
   "id": "61b52422-c337-4aa8-a2d8-de2fab1ede84",
   "metadata": {},
   "outputs": [],
   "source": [
    "import PyPDF2 as ppdf\n",
    "import os"
   ]
  },
  {
   "cell_type": "code",
   "execution_count": 18,
   "id": "fa318b64-e6ee-4273-9360-70d7e4bec5b3",
   "metadata": {},
   "outputs": [],
   "source": [
    "merger = ppdf.PdfMerger()"
   ]
  },
  {
   "cell_type": "code",
   "execution_count": 19,
   "id": "98453ec2-3df0-41dd-a3f4-8d1ae6b9db07",
   "metadata": {},
   "outputs": [
    {
     "name": "stdout",
     "output_type": "stream",
     "text": [
      "['01. PDF.pdf', '02. Arquivo.pdf', '03. Ultimo Arquivo.pdf']\n"
     ]
    }
   ],
   "source": [
    "lista_pdfs = os.listdir('arquivos-pdfs')\n",
    "lista_pdfs.sort()\n",
    "print(lista_pdfs)"
   ]
  },
  {
   "cell_type": "code",
   "execution_count": 20,
   "id": "d4a9ca51-f82b-48b5-a056-ec06271c4469",
   "metadata": {},
   "outputs": [],
   "source": [
    "for pdf in lista_pdfs:\n",
    "    if \".pdf\" in pdf:\n",
    "        merger.append(f\"arquivos-pdfs/{pdf}\")\n",
    "\n",
    "merger.write('PDF final.pdf')"
   ]
  },
  {
   "cell_type": "code",
   "execution_count": null,
   "id": "a9957c16-22f4-4d73-8242-2da0f870285e",
   "metadata": {},
   "outputs": [],
   "source": []
  }
 ],
 "metadata": {
  "kernelspec": {
   "display_name": "Python 3 (ipykernel)",
   "language": "python",
   "name": "python3"
  },
  "language_info": {
   "codemirror_mode": {
    "name": "ipython",
    "version": 3
   },
   "file_extension": ".py",
   "mimetype": "text/x-python",
   "name": "python",
   "nbconvert_exporter": "python",
   "pygments_lexer": "ipython3",
   "version": "3.11.7"
  }
 },
 "nbformat": 4,
 "nbformat_minor": 5
}
